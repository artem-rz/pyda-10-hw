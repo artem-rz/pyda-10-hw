{
 "cells": [
  {
   "cell_type": "markdown",
   "metadata": {},
   "source": [
    "## Задание №1 "
   ]
  },
  {
   "cell_type": "code",
   "execution_count": null,
   "metadata": {
    "scrolled": true
   },
   "outputs": [],
   "source": [
    "long_phrase = \"Насколько проще было бы писать программы, если бы не заказчики\"\n",
    "short_phrase = '640Кб должно хватить для любых задач. Билл Гейтс (по легенде)'\n",
    "if len(long_phrase) > len(short_phrase):\n",
    "    print('True')\n",
    "else:\n",
    "    print(\"False\")\n",
    "\n"
   ]
  },
  {
   "cell_type": "markdown",
   "metadata": {},
   "source": [
    "## Задание №2"
   ]
  },
  {
   "cell_type": "code",
   "execution_count": 32,
   "metadata": {},
   "outputs": [
    {
     "name": "stdout",
     "output_type": "stream",
     "text": [
      "Введите объем данных в байтах: 1385038\n",
      "Объём в мегабайтах равен 1.321 Mb\n"
     ]
    }
   ],
   "source": [
    "byte = int(input(\"Введите объем данных в байтах: \"))\n",
    "mbyte = byte/1024/1024\n",
    "print(\"Объём в мегабайтах равен\" , round(mbyte,3),\"Mb\")"
   ]
  },
  {
   "cell_type": "markdown",
   "metadata": {},
   "source": [
    "## Задание №3"
   ]
  },
  {
   "cell_type": "code",
   "execution_count": null,
   "metadata": {},
   "outputs": [],
   "source": [
    "months = [\"Январь\", \"Февраль\", \"Март\", \"Апрель\", \"Май\", \"Июнь\", \"Июль\", \"Август\", \"Сентябрь\", \"Октябрь\", \"Ноябрь\", \"Декабрь\"]\n",
    "print(months)\n",
    "month = input(\"Введите месяц согласно списка: \")\n",
    "date = int(input(\"Введите дату: \"))\n",
    "if month.capitalize() == months[0] and 1 <= date <= 20 or month.capitalize() == months[-1] and 31 >= date >= 22:\n",
    "    print(\"Козерог\")\n",
    "elif month.capitalize() == months[0] and 31 >= date >= 21 or month.capitalize() == months[1] and 1 <= date <= 19:\n",
    "    print(\"Водолей\")\n",
    "elif month.capitalize() == months[1] and 29 >= date >= 20 or month.capitalize() == months[2] and 1 <= date <= 20:\n",
    "    print(\"Рыбы\")\n",
    "elif month.capitalize() == months[2] and 31 >= date >= 21 or month.capitalize() == months[3] and 1 <= date <= 20:\n",
    "    print(\"Овен\")\n",
    "elif month.capitalize() == months[3] and 31 >= date >= 21 or month.capitalize() == months[4] and 1 <= date <= 21:\n",
    "    print(\"Телец\")\n",
    "elif month.capitalize() == months[4] and 31 >= date >= 22 or month.capitalize() == months[5] and 1 <= date <= 21:\n",
    "    print(\"Близнецы\")\n",
    "elif month.capitalize() == months[5] and 31 >= date >= 22 or month.capitalize() == months[6] and 1 <= date <= 22:\n",
    "    print(\"Рак\")\n",
    "elif month.capitalize() == months[6] and 31 >= date >= 23 or month.capitalize() == months[7] and 1 <= date <= 23:\n",
    "    print(\"Лев\")\n",
    "elif month.capitalize() == months[7] and 31 >= date >= 24 or month.capitalize() == months[8] and 1 <= date <= 22:\n",
    "    print(\"Дева\")\n",
    "elif month.capitalize() == months[8] and 31 >= date >= 23 or month.capitalize() == months[9] and 1 <= date <= 22:\n",
    "    print(\"Весы\")\n",
    "elif month.capitalize() == months[9] and 31 >= date >= 23 or month.capitalize() == months[10] and 1 <= date <= 22:\n",
    "    print(\"Скорпион\")\n",
    "elif month.capitalize() == months[10] and 31 >= date >= 23 or month.capitalize() == months[11] and 1 <= date <= 21:\n",
    "    print(\"Стрелец\")\n",
    "else:\n",
    "    print(\"Неправильная дата\")\n"
   ]
  },
  {
   "cell_type": "markdown",
   "metadata": {},
   "source": [
    "## Задание №4"
   ]
  },
  {
   "cell_type": "code",
   "execution_count": 20,
   "metadata": {},
   "outputs": [
    {
     "name": "stdout",
     "output_type": "stream",
     "text": [
      "Введите свою заработную плату в месяц: 100000\n",
      "Введите сколько процентов уходит на ипотеку: 30\n",
      "Введите сколько процентов уходит на жизнь: 50\n",
      "Введите количество премий за год: 2\n",
      "На ипотеку было потрачено 360000 Было накоплено 340000\n"
     ]
    }
   ],
   "source": [
    "salary = int(input(\"Введите свою заработную плату в месяц: \"))\n",
    "ipoteka = int(input(\"Введите сколько процентов уходит на ипотеку: \"))\n",
    "life = int(input(\"Введите сколько процентов уходит на жизнь: \"))\n",
    "bonus = int(input(\"Введите количество премий за год: \"))\n",
    "ipoteka = int(salary*ipoteka/100)\n",
    "life = int(salary*life/100)\n",
    "#print(salary, ipoteka, life, bonus)\n",
    "bonus = int(salary*bonus)/2\n",
    "pensia = int(salary - ipoteka - life)\n",
    "print(\"На ипотеку было потрачено\", ipoteka*12, \"Было накоплено\" , int(pensia*12+bonus))\n",
    "\n"
   ]
  },
  {
   "cell_type": "markdown",
   "metadata": {},
   "source": [
    "## Задание про упаковки"
   ]
  },
  {
   "cell_type": "code",
   "execution_count": null,
   "metadata": {},
   "outputs": [],
   "source": [
    "width = int(input(\"Введи ширину: \"))\n",
    "length = int(input(\"Введи длину: \"))\n",
    "height = int(input(\"Введи высоту: \"))\n",
    "if width < 15 and length < 15 and height < 15:\n",
    "    print(\"Коробка №1\")\n",
    "elif 15 < width < 50 and 15 < length < 50 and 15 < height < 50:\n",
    "    print(\"Коробка №2\")\n",
    "elif length > 200:\n",
    "    print(\"Ищете упаковку для лыж\")\n",
    "else:\n",
    "    print('Стандартная коробка №3')"
   ]
  },
  {
   "cell_type": "code",
   "execution_count": null,
   "metadata": {},
   "outputs": [],
   "source": []
  }
 ],
 "metadata": {
  "kernelspec": {
   "display_name": "Python 3",
   "language": "python",
   "name": "python3"
  },
  "language_info": {
   "codemirror_mode": {
    "name": "ipython",
    "version": 3
   },
   "file_extension": ".py",
   "mimetype": "text/x-python",
   "name": "python",
   "nbconvert_exporter": "python",
   "pygments_lexer": "ipython3",
   "version": "3.7.6"
  }
 },
 "nbformat": 4,
 "nbformat_minor": 4
}

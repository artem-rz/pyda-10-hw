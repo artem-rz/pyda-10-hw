{
 "cells": [
  {
   "cell_type": "markdown",
   "metadata": {},
   "source": [
    "### Задание №1"
   ]
  },
  {
   "cell_type": "code",
   "execution_count": null,
   "metadata": {
    "scrolled": true
   },
   "outputs": [],
   "source": [
    "word = input(\"Введите слово \")\n",
    "letter = len(word)\n",
    "#print(type(letter))\n",
    "#print(letter)\n",
    "if letter % 2 == 0:\n",
    "    print(word[(letter)//2-1:letter//2+1])\n",
    "else:\n",
    "    print(word[(letter)//2:letter//2+1])\n",
    "\n",
    "\n",
    "    "
   ]
  },
  {
   "cell_type": "markdown",
   "metadata": {},
   "source": [
    "### Задание №2"
   ]
  },
  {
   "cell_type": "code",
   "execution_count": 1,
   "metadata": {},
   "outputs": [
    {
     "name": "stdout",
     "output_type": "stream",
     "text": [
      "Alex подходит Emma\n",
      "Arthur подходит Kate\n",
      "John подходит Kira\n",
      "Peter подходит Kolobok\n",
      "Richard подходит Liza\n",
      "Trrrrr подходит Trisha\n"
     ]
    }
   ],
   "source": [
    "boys = ['Peter', 'Alex', 'John', 'Arthur', 'Richard', 'Trrrrr']\n",
    "girls = ['Kate', 'Liza', 'Kira', 'Emma', 'Trisha', 'Kolobok']\n",
    "b = sorted(boys)\n",
    "g = sorted(girls)\n",
    "recomend = list(zip(b , g))\n",
    "#print(type(recomend))\n",
    "if len(b) == len(g):\n",
    "    for i in recomend:\n",
    "        print(i[0], \"подходит\", i[1])\n",
    "else:\n",
    "    print(\"Кому-то не хватит пары\")"
   ]
  },
  {
   "cell_type": "markdown",
   "metadata": {},
   "source": [
    "### Задание №3"
   ]
  },
  {
   "cell_type": "code",
   "execution_count": 2,
   "metadata": {},
   "outputs": [
    {
     "name": "stdout",
     "output_type": "stream",
     "text": [
      "Средняя температура за неделю в  Thailand - 39.1\n",
      "Средняя температура за неделю в  Germany - 28.95\n",
      "Средняя температура за неделю в  Russia - 18.95\n",
      "Средняя температура за неделю в  Poland - 27.1\n"
     ]
    }
   ],
   "source": [
    "countries_temperature = [\n",
    " ['Thailand', [75.2, 77, 78.8, 73.4, 68, 75.2, 77]],\n",
    " ['Germany', [57.2, 55.4, 59, 59, 53.6, 55.4, 57.2]],\n",
    " ['Russia', [35.6, 37.4, 39.2, 41, 42.8, 39.2, 35.6]],\n",
    " ['Poland', [50, 50, 53.6, 57.2, 55.4, 55.4, 51.8]],\n",
    "]\n",
    "#temp = 0\n",
    "for country in countries_temperature:\n",
    "    day = len(country[1])\n",
    "    temp = 5 / 9 * (sum(country[1]) - 32) / day\n",
    "    print(\"Средняя температура за неделю в \", country[0] , \"-\",  round(temp, 2))\n",
    "\n",
    "\n"
   ]
  },
  {
   "cell_type": "markdown",
   "metadata": {},
   "source": [
    "### Задание №3 вариант 2"
   ]
  },
  {
   "cell_type": "code",
   "execution_count": null,
   "metadata": {},
   "outputs": [],
   "source": [
    "countries_temperature = [\n",
    " ['Thailand', [75.2, 77, 78.8, 73.4, 68, 75.2, 77]],\n",
    " ['Germany', [57.2, 55.4, 59, 59, 53.6, 55.4, 57.2]],\n",
    " ['Russia', [35.6, 37.4, 39.2, 41, 42.8, 39.2, 35.6]],\n",
    " ['Poland', [50, 50, 53.6, 57.2, 55.4, 55.4, 51.8]],\n",
    "]\n",
    "for country in countries_temperature:\n",
    "#    print(country[0], country[1])\n",
    "    t = 0\n",
    "    day = len(country[1])\n",
    "    for temp in country[1]:\n",
    "        t += temp\n",
    "    print(country[0], round((5 / 9 * (t - 32)) / day, 2))\n",
    "    "
   ]
  },
  {
   "cell_type": "markdown",
   "metadata": {},
   "source": [
    "### Задание №4"
   ]
  },
  {
   "cell_type": "code",
   "execution_count": 8,
   "metadata": {},
   "outputs": [
    {
     "name": "stdout",
     "output_type": "stream",
     "text": [
      "Среднее значение просмотров к уникальным пользователям -  23.25\n",
      "Всего просмотров -  93\n"
     ]
    }
   ],
   "source": [
    "stream = [\n",
    "    '2018-01-01,user1,3',\n",
    "    '2018-01-07,user1,4',\n",
    "    '2018-03-29,user1,1',\n",
    "    '2018-04-04,user1,13',\n",
    "    '2018-01-05,user2,7',\n",
    "    '2018-06-14,user3,4',\n",
    "    '2018-07-02,user3,10',\n",
    "    '2018-03-21,user4,19',\n",
    "    '2018-03-22,user4,4',\n",
    "    '2018-04-22,user4,8',\n",
    "    '2018-05-03,user4,9',\n",
    "    '2018-05-11,user4,11',\n",
    "]\n",
    "view = 0\n",
    "users = []\n",
    "\n",
    "for spisok in stream:\n",
    "    spisok = spisok.split(',')\n",
    "    view += int(spisok[2])\n",
    "    if spisok[1] not in users:\n",
    "        users.append(spisok[1])\n",
    "    avg = view/len(users)\n",
    "#print(avg)\n",
    "print(\"Среднее значение просмотров к уникальным пользователям - \", avg)\n",
    "print(\"Всего просмотров - \", view)\n"
   ]
  },
  {
   "cell_type": "markdown",
   "metadata": {},
   "source": [
    "### Задание №5"
   ]
  },
  {
   "cell_type": "code",
   "execution_count": 63,
   "metadata": {},
   "outputs": [
    {
     "name": "stdout",
     "output_type": "stream",
     "text": [
      "Введите дату в формате ГГГГ-ДД-ММ 2018-01-03\n",
      "Введите название компании: market\n",
      "1764\n"
     ]
    }
   ],
   "source": [
    "stats = [\n",
    "    ['2018-01-01', 'google', 25],\n",
    "    ['2018-01-01', 'yandex', 65],\n",
    "    ['2018-01-01', 'market', 89],\n",
    "    ['2018-01-02', 'google', 574],\n",
    "    ['2018-01-02', 'yandex', 249],\n",
    "    ['2018-01-02', 'market', 994],\n",
    "    ['2018-01-03', 'google', 1843],\n",
    "    ['2018-01-03', 'yandex', 1327],\n",
    "    ['2018-01-03', 'market', 1764],\n",
    "]\n",
    "#stats[0]\n",
    "date = input('Введите дату в формате ГГГГ-ДД-ММ ')\n",
    "comp = input('Введите название компании: ')\n",
    "for stat in stats:\n",
    "    if date == stat[0] and comp == stat[1]:\n",
    "        print(stat[2])\n",
    "        break\n",
    "else:\n",
    "    print('Некорректный формат')\n",
    "\n",
    "    \n",
    "    \n",
    "    "
   ]
  },
  {
   "cell_type": "markdown",
   "metadata": {},
   "source": [
    "### Задание №6"
   ]
  },
  {
   "cell_type": "code",
   "execution_count": 10,
   "metadata": {},
   "outputs": [
    {
     "name": "stdout",
     "output_type": "stream",
     "text": [
      "103\n",
      "124\n"
     ]
    }
   ],
   "source": [
    "data = [\n",
    "    [13, 25, 23, 34,],\n",
    "    [45, 32, 44, 47,],\n",
    "    [12, 33, 23, 95,],\n",
    "    [13, 53, 34, 35,]\n",
    "]\n",
    "summ = 0\n",
    "sum2 = 0\n",
    "n = len(data)\n",
    "for i in range(len(data)):\n",
    "    for k in range(len(data[i])):\n",
    "        if i == k:\n",
    "            summ += data[i][k]\n",
    "            sum2 += data[i][n-k-1]\n",
    "print(summ)\n",
    "print(sum2)\n",
    "            "
   ]
  }
 ],
 "metadata": {
  "kernelspec": {
   "display_name": "Python 3",
   "language": "python",
   "name": "python3"
  },
  "language_info": {
   "codemirror_mode": {
    "name": "ipython",
    "version": 3
   },
   "file_extension": ".py",
   "mimetype": "text/x-python",
   "name": "python",
   "nbconvert_exporter": "python",
   "pygments_lexer": "ipython3",
   "version": "3.7.6"
  }
 },
 "nbformat": 4,
 "nbformat_minor": 4
}
